{
  "cells": [
    {
      "cell_type": "markdown",
      "metadata": {},
      "source": [
        "# Machine Translation\n",
        "\n",
        "The source codes is located at [book/machine_translation](https://github.com/PaddlePaddle/book/tree/develop/machine_translation). Please refer to the PaddlePaddle [installation tutorial](http://www.paddlepaddle.org/doc_cn/build_and_install/index.html) if you are a first time user.\n",
        "\n",
        "## Background\n",
        "\n",
        "Machine translation (MT) leverages computers to translate from one language to another. The language to be translated is referred to as the source language, while the language to be translated into is referred to as the target language. Thus, Machine translation is the process of translating from the source language to the target language. It is one of the most important research topics in the field of natural language processing.\n",
        "\n",
        "Early machine translation systems are mainly rule-based i.e. they rely on a language expert to specify the translation rules between the two languages. It is quite difficult to cover all the rules used in one languge. So it is quite a challenge for language experts to specify all possible rules in two or more different languages. Hence, a major challenge in conventional machine translation has been the difficulty in obtaining a complete rule set \\[[1](#References)\\]。\n",
        "\n",
        "\n",
        "To address the aforementioned problems, statistical machine translation techniques have been developed. These techniques learn the translation rules from a large corpus, instead of being designed by a language expert. While these techniques overcome the bottleneck of knowledge acquisition, there are still quite a lot of challenges, for example:\n",
        "\n",
        "1. human designed features cannot cover all possible linguistic variations;\n",
        "\n",
        "2. it is difficult to use global features;\n",
        "\n",
        "3. the techniques heavily rely on pre-processing techniques like word alignment, word segmentation and tokenization, rule-extraction and syntactic parsing etc. The error introduced in any of these steps could accumulate and impact translation quality.\n",
        "\n",
        "\n",
        "\n",
        "The recent development of deep learning provides new solutions to these challenges. The two main categories for deep learning based machine translation techniques are:\n",
        "\n",
        "1. techniques based on the statistical machine translation system but with some key components improved with neural networks, e.g., language model, reordering model (please refer to the left part of Figure 1);\n",
        "\n",
        "2. techniques mapping from source language to target language directly using a neural network, or end-to-end neural machine translation (NMT).\n",
        "\n",
        "\u003cp align=\"center\"\u003e\n",
        "\u003cimg src=\"image/nmt_en.png\" width=400\u003e\u003cbr/\u003e\n",
        "Figure 1. Neural Network based Machine Translation\n",
        "\u003c/p\u003e\n",
        "\n",
        "\n",
        "This tutorial will mainly introduce an NMT model and how to use PaddlePaddle to train it.\n",
        "\n",
        "## Illustrative Results\n",
        "\n",
        "Let's consider an example of Chinese-to-English translation. The model is given the following segmented sentence in Chinese\n",
        "```text\n",
        "这些 是 希望 的 曙光 和 解脱 的 迹象 .\n",
        "```\n",
        "After training and with a beam-search size of 3, the generated translations are as follows:\n",
        "```text\n",
        "0 -5.36816   these are signs of hope and relief . \u003ce\u003e\n",
        "1 -6.23177   these are the light of hope and relief . \u003ce\u003e\n",
        "2 -7.7914  these are the light of hope and the relief of hope . \u003ce\u003e\n",
        "```\n",
        "- The first column corresponds to the id of the generated sentence; the second column corresponds to the score of the generated sentence (in descending order), where a larger value indicates better quality; the last column corresponds to the generated sentence.\n",
        "- There are two special tokens: `\u003ce\u003e` denotes the end of a sentence while `\u003cunk\u003e` denotes unknown word, i.e., a word not in the training dictionary.\n",
        "\n",
        "## Overview of the Model\n",
        "\n",
        "This section will introduce Gated Recurrent Unit (GRU), Bi-directional Recurrent Neural Network, the Encoder-Decoder framework used in NMT, attention mechanism, as well as the beam search algorithm.\n",
        "\n",
        "### Gated Recurrent Unit (GRU)\n",
        "\n",
        "We already introduced RNN and LSTM in the [Sentiment Analysis](https://github.com/PaddlePaddle/book/blob/develop/understand_sentiment/README.md) chapter.\n",
        "Compared to a simple RNN, the LSTM added memory cell, input gate, forget gate and output gate. These gates combined with the memory cell greatly improve the ability to handle long-term dependencies.\n",
        "\n",
        "GRU\\[[2](#References)\\] proposed by Cho et al is a simplified LSTM and an extension of a simple RNN. It is shown in the figure below.\n",
        "A GRU unit has only two gates:\n",
        "- reset gate: when this gate is closed, the history information is discarded, i.e., the irrelevant historical information has no effect on the future output.\n",
        "- update gate: it combines the input gate and the forget gate and is used to control the impact of historical information on the hidden output. The historical information is passed over when the update gate is close to 1.\n",
        "\n",
        "\u003cp align=\"center\"\u003e\n",
        "\u003cimg src=\"image/gru_en.png\" width=700\u003e\u003cbr/\u003e\n",
        "Figure 2. A GRU Gate\n",
        "\u003c/p\u003e\n",
        "\n",
        "Generally speaking, sequences with short distance dependencies will have an active reset gate while sequences with long distance dependency will have an active update date.\n",
        "In addition, Chung et al.\\[[3](#References)\\] have empirically shown that although GRU has less parameters, it has similar performance to LSTM on several different tasks.\n",
        "\n",
        "### Bi-directional Recurrent Neural Network\n",
        "\n",
        "We already introduced an instance of bi-directional RNN in the [Semantic Role Labeling](https://github.com/PaddlePaddle/book/blob/develop/label_semantic_roles/README.md) chapter. Here we present another bi-directional RNN model with a different architecture proposed by Bengio et al. in \\[[2](#References),[4](#References)\\]. This model takes a sequence as input and outputs a fixed dimensional feature vector at each step, encoding the context information at the corresponding time step.\n",
        "\n",
        "Specifically, this bi-directional RNN processes the input sequence in the original and reverse order respectively, and then concatenates the output feature vectors at each time step as the final output. Thus the output node at each time step contains information from the past and future as context. The figure below shows an unrolled bi-directional RNN. This network contains a forward RNN and backward RNN with six weight matrices: weight matrices from input to forward hidden layer and backward hidden ($W_1, W_3$), weight matrices from hidden to itself ($W_2, W_5$), matrices from forward hidden and backward hidden to output layer ($W_4, W_6$). Note that there are no connections between forward hidden and backward hidden layers.\n",
        "\n",
        "\u003cp align=\"center\"\u003e\n",
        "\u003cimg src=\"image/bi_rnn_en.png\" width=450\u003e\u003cbr/\u003e\n",
        "Figure 3. Temporally unrolled bi-directional RNN\n",
        "\u003c/p\u003e\n",
        "\n",
        "### Encoder-Decoder Framework\n",
        "\n",
        "The Encoder-Decoder\\[[2](#References)\\] framework aims to solve the mapping of a sequence to another sequence, for sequences with arbitrary lengths. The source sequence is encoded into a vector via an encoder, which is then decoded to a target sequence via a decoder by maximizing the predictive probability. Both the encoder and the decoder are typically implemented via RNN.\n",
        "\n",
        "\u003cp align=\"center\"\u003e\n",
        "\u003cimg src=\"image/encoder_decoder_en.png\" width=700\u003e\u003cbr/\u003e\n",
        "Figure 4. Encoder-Decoder Framework\n",
        "\u003c/p\u003e\n",
        "\n",
        "#### Encoder\n",
        "\n",
        "There are three steps for encoding a sentence:\n",
        "\n",
        "1. One-hot vector representation of a word: Each word $x_i$ in the source sentence $x=\\left \\{ x_1,x_2,...,x_T \\right \\}$ is represented as a vector $w_i\\epsilon R^{\\left | V \\right |},i=1,2,...,T$   where $w_i$ has the same dimensionality as the size of the dictionary, i.e., $\\left | V \\right |$, and has an element of one at the location corresponding to the location of the word in the dictionary and zero elsewhere.\n",
        "\n",
        "2. Word embedding as a representation in the low-dimensional semantic space: There are two problems with one-hot vector representation\n",
        "\n",
        "  * the dimensionality of the vector is typically large, leading to the curse of dimensionality;\n",
        "\n",
        "  * it is hard to capture the relationships between words, i.e., semantic similarities. Therefore, it is useful to project the one-hot vector into a low-dimensional semantic space as a dense vector with fixed dimensions, i.e., $s_i=Cw_i$ for the $i$-th word, with $C\\epsilon R^{K\\times \\left | V \\right |}$ as the projection matrix and $K$ is the dimensionality of the word embedding vector.\n",
        "\n",
        "3. Encoding of the source sequence via RNN: This can be described mathematically as:\n",
        "\n",
        "    $$h_i=\\varnothing _\\theta \\left ( h_{i-1}, s_i \\right )$$\n",
        "\n",
        "    where\n",
        "    $h_0$ is a zero vector,\n",
        "    $\\varnothing _\\theta$ is a non-linear activation function, and\n",
        "    $\\mathbf{h}=\\left \\{ h_1,..., h_T \\right \\}$\n",
        "    is the sequential encoding of the first $T$ words from the source sequence. The vector representation of the whole sentence can be represented as the encoding vector at the last time step $T$ from $\\mathbf{h}$, or by temporal pooling over $\\mathbf{h}$.\n",
        "\n",
        "\n",
        "Bi-directional RNN can also be used in step (3) for more a complicated sentence encoding. This can be implemented using a bi-directional GRU. Forward GRU encodes the source sequence in its original order $(x_1,x_2,...,x_T)$, and generates a sequence of hidden states $(\\overrightarrow{h_1},\\overrightarrow{h_2},...,\\overrightarrow{h_T})$. The backward GRU encodes the source sequence in reverse order, i.e., $(x_T,x_T-1,...,x_1)$ and generates $(\\overleftarrow{h_1},\\overleftarrow{h_2},...,\\overleftarrow{h_T})$. Then for each word $x_i$, its complete hidden state is the concatenation of the corresponding hidden states from the two GRUs, i.e., $h_i=\\left [ \\overrightarrow{h_i^T},\\overleftarrow{h_i^T} \\right ]^{T}$.\n",
        "\n",
        "\u003cp align=\"center\"\u003e\n",
        "\u003cimg src=\"image/encoder_attention_en.png\" width=500\u003e\u003cbr/\u003e\n",
        "Figure 5. Encoder using bi-directional GRU\n",
        "\u003c/p\u003e\n",
        "\n",
        "#### Decoder\n",
        "\n",
        "The goal of the decoder is to maximize the probability of the next correct word in the target language. The main idea is as follows:\n",
        "\n",
        "1. At each time step $i$, given the encoding vector (or context vector) $c$ of the source sentence, the $i$-th word $u_i$ from the ground-truth target language and the RNN hidden state $z_i$, the next hidden state $z_{i+1}$ is computed as:\n",
        "\n",
        "   $$z_{i+1}=\\phi _{\\theta '}\\left ( c,u_i,z_i \\right )$$\n",
        "   where $\\phi _{\\theta '}$ is a non-linear activation function and $c=q\\mathbf{h}$ is the context vector of the source sentence. Without using [attention](#Attention Mechanism), if the output of the [encoder](#Encoder) is the encoding vector at the last time step of the source sentence, then $c$ can be defined as $c=h_T$. $u_i$ denotes the $i$-th word from the target language sentence and $u_0$ denotes the beginning of the target language sentence (i.e., `\u003cs\u003e`), indicating the beginning of decoding. $z_i$ is the RNN hidden state at time step $i$ and $z_0$ is an all zero vector.\n",
        "\n",
        "2. Calculate the probability $p_{i+1}$ for the $i+1$-th word in the target language sequence by normalizing $z_{i+1}$ using `softmax` as follows\n",
        "\n",
        "   $$p\\left ( u_{i+1}|u_{\u0026lt;i+1},\\mathbf{x} \\right )=softmax(W_sz_{i+1}+b_z)$$\n",
        "\n",
        "   where $W_sz_{i+1}+b_z$ scores each possible words and is then normalized via softmax to produce the probability $p_{i+1}$ for the $i+1$-th word.\n",
        "\n",
        "3. Compute the cost accoding to $p_{i+1}$ and $u_{i+1}$.\n",
        "4. Repeat Steps 1-3, until all the words in the target language sentence have been processed.\n",
        "\n",
        "The generation process of machine translation is to translate the source sentence into a sentence in the target language according to a pre-trained model. There are some differences between the decoding step in generation and training. Please refer to [Beam Search Algorithm](#Beam Search Algorithm) for details.\n",
        "\n",
        "### Attention Mechanism\n",
        "\n",
        "There are a few problems with the fixed dimensional vector representation from the encoding stage:\n",
        "  * It is very challenging to encode both the semantic and syntactic information a sentence with a fixed dimensional vector regardless of the length of the sentence.\n",
        "  * Intuitively, when translating a sentence, we typically pay more attention to the parts in the source sentence more relevant to the current translation. Moreover, the focus changes along the process of the translation. With a fixed dimensional vector, all the information from the source sentence is treated equally in terms of attention. This is not reasonable. Therefore, Bahdanau et al. \\[[4](#References)\\] introduced attention mechanism, which can decode based on different fragments of the context sequence in order to address the difficulty of feature learning for long sentences. Decoder with attention will be explained in the following.\n",
        "\n",
        "Different from the simple decoder, $z_i$ is computed as:\n",
        "\n",
        "$$z_{i+1}=\\phi _{\\theta '}\\left ( c_i,u_i,z_i \\right )$$\n",
        "\n",
        "It is observed that for each word $u_i$ in the target language sentence, there is a corresponding context vector $c_i$ as the encoding of the source sentence, which is computed as:\n",
        "\n",
        "$$c_i=\\sum _{j=1}^{T}a_{ij}h_j, a_i=\\left[ a_{i1},a_{i2},...,a_{iT}\\right ]$$\n",
        "\n",
        "It is noted that the attention mechanism is achieved by a weighted average over the RNN hidden states $h_j$. The weight $a_{ij}$ denotes the strength of attention of the $i$-th word in the target language sentence to the $j$-th word in the source sentence and is calculated as\n",
        "\n",
        "\\begin{align}\n",
        "a_{ij}\u0026=\\frac{exp(e_{ij})}{\\sum_{k=1}^{T}exp(e_{ik})}\\\\\\\\\n",
        "e_{ij}\u0026=align(z_i,h_j)\\\\\\\\\n",
        "\\end{align}\n",
        "\n",
        "where $align$ is an alignment model that measures the fitness between the $i$-th word in the target language sentence and the $j$-th word in the source sentence. More concretely, the fitness is computed with the $i$-th hidden state $z_i$ of the decoder RNN and the $j$-th context vector $h_j$ of the source sentence. Hard alignment is used in the conventional alignment model, which means each word in the target language explicitly corresponds to one or more words from the target language sentence. In an attention model, soft alignment is used, where any word in source sentence is related to any word in the target language sentence, where the strength of the relation is a real number computed via the model, thus can be incorporated into the NMT framework and can be trained via back-propagation.\n",
        "\n",
        "\u003cp align=\"center\"\u003e\n",
        "\u003cimg src=\"image/decoder_attention_en.png\" width=500\u003e\u003cbr/\u003e\n",
        "Figure 6. Decoder with Attention Mechanism\n",
        "\u003c/p\u003e\n",
        "\n",
        "### Beam Search Algorithm\n",
        "\n",
        "[Beam Search](http://en.wikipedia.org/wiki/Beam_search) is a heuristic search algorithm that explores a graph by expanding the most promising node in a limited set. It is typically used when the solution space is huge  (e.g., for machine translation, speech recognition), and there is not enough memory for all the possible solutions. For example, if we want to translate “`\u003cs\u003e你好\u003ce\u003e`” into English, even if there are only three words in the dictionary (`\u003cs\u003e`, `\u003ce\u003e`, `hello`), it is still possible to generate an infinite number of sentences, where the word `hello` can appear different number of times. Beam search could be used to find a good translation among them.\n",
        "\n",
        "Beam search builds a search tree using breadth first search and sorts the nodes according to a heuristic cost (sum of the log probability of the generated words) at each level of the tree. Only a fixed number of nodes according to the pre-specified beam size (or beam width) are considered. Thus, only nodes with highest scores are expanded in the next level. This reduces the space and time requirements significantly. However, a globally optimal solution is not guaranteed.\n",
        "\n",
        "The goal is to maximize the probability of the generated sequence when using beam search in decoding, The procedure is as follows:\n",
        "\n",
        "1. At each time step $i$, compute the hidden state $z_{i+1}$ of the next time step according to the context vector $c$ of the source sentence, the $i$-th word $u_i$ generated for the target language sentence and the RNN hidden state $z_i$.\n",
        "2. Normalize $z_{i+1}$ using `softmax` to get the probability $p_{i+1}$ for the $i+1$-th word for the target language sentence.\n",
        "3. Sample the word $u_{i+1}$ according to $p_{i+1}$.\n",
        "4. Repeat Steps 1-3, until end-of-sentence token `\u003ce\u003e` is generated or the maximum length of the sentence is reached.\n",
        "\n",
        "Note: $z_{i+1}$ and $p_{i+1}$ are computed the same way as in [Decoder](#Decoder). In generation mode, each step is greedy in so there is no guarantee of a global optimum.\n",
        "\n",
        "## Data Preparation\n",
        "\n",
        "### Download and Uncompression\n",
        "\n",
        "This tutorial uses a dataset from [WMT-14](http://www-lium.univ-lemans.fr/~schwenk/cslm_joint_paper/), where [bitexts (after selection)](http://www-lium.univ-lemans.fr/~schwenk/cslm_joint_paper/data/bitexts.tgz) is used as the training set, and [dev+test data](http://www-lium.univ-lemans.fr/~schwenk/cslm_joint_paper/data/dev+test.tgz) is used as test and generation set.\n",
        "\n",
        "Run the following command in Linux to obtain the data:\n",
        "```bash\n",
        "cd data\n",
        "./wmt14_data.sh\n",
        "```\n",
        "There are three folders in the downloaded dataset `data/wmt14`:\n",
        "\u003cp align = \"center\"\u003e\n",
        "\u003ctable\u003e\n",
        "\u003ctr\u003e\n",
        "\u003ctd\u003eFolder Name\u003c/td\u003e\n",
        "\u003ctd\u003eFrench-English Parallel Corpus\u003c/td\u003e\n",
        "\u003ctd\u003eNumber of Files\u003c/td\u003e\n",
        "\u003ctd\u003eSize of Files\u003c/td\u003e\n",
        "\u003c/tr\u003e\n",
        "\n",
        "\u003ctr\u003e\n",
        "\u003ctd\u003etrain\u003c/td\u003e\n",
        "\u003ctd\u003eccb2_pc30.src, ccb2_pc30.trg, etc\u003c/td\u003e\n",
        "\u003ctd\u003e12\u003c/td\u003e\n",
        "\u003ctd\u003e3.55G\u003c/td\u003e\n",
        "\u003c/tr\u003e\n",
        "\n",
        "\u003ctr\u003e\n",
        "\u003ctd\u003etest\u003c/td\u003e\n",
        "\u003ctd\u003entst1213.src, ntst1213.trg\u003c/td\u003e\n",
        "\u003ctd\u003e2\u003c/td\u003e\n",
        "\u003ctd\u003e1636k\u003c/td\u003e\n",
        "\u003c/tr\u003e\n",
        "\n",
        "\u003c/tr\u003e\n",
        "\u003ctr\u003e\n",
        "\u003ctd\u003egen\u003c/td\u003e\n",
        "\u003ctd\u003entst14.src, ntst14.trg\u003c/td\u003e\n",
        "\u003ctd\u003e2\u003c/td\u003e\n",
        "\u003ctd\u003e864k\u003c/td\u003e\n",
        "\u003c/tr\u003e\n",
        "\u003c/table\u003e\n",
        "\u003c/p\u003e\n",
        "\n",
        "- `XXX.src` is the source file in French and `XXX.trg`is the target file in English. Each row of the file contains one sentence.\n",
        "- `XXX.src` and `XXX.trg` has the same number of rows and there is a one-to-one correspondance between the sentences at any row from the two files.\n",
        "\n",
        "### User Defined Dataset (Optional)\n",
        "\n",
        "To use your own dataset, just put it under the `data` folder and organize it as follows\n",
        "```text\n",
        "user_dataset\n",
        "├── train\n",
        "│   ├── train_file1.src\n",
        "│   ├── train_file1.trg\n",
        "│   └── ...\n",
        "├── test\n",
        "│   ├── test_file1.src\n",
        "│   ├── test_file1.trg\n",
        "│   └── ...\n",
        "├── gen\n",
        "│   ├── gen_file1.src\n",
        "│   ├── gen_file1.trg\n",
        "│   └── ...\n",
        "```\n",
        "\n",
        "Explanation of the directories:\n",
        "- First level: `user_dataset`: the name of the user defined dataset.\n",
        "- Second level: `train`、`test` and `gen`: these names should not be changed.\n",
        "- Third level: Parallel corpus in source language and target language, each with a postfix of `.src` and `.trg`.\n",
        "\n",
        "### Data Pre-processing\n",
        "\n",
        "There are two steps for pre-processing:\n",
        "- Merge the source and target parallel corpus files into one file\n",
        "  - Merge `XXX.src` and `XXX.trg` file pair as `XXX`\n",
        "  - The $i$-th row in `XXX` is the concatenation of the $i$-th row from `XXX.src` with the $i$-th row from `XXX.trg`, separated with '\\t'.\n",
        "\n",
        "- Create source dictionary and target dictionary, each containing **DICTSIZE** number of words, including the most frequent (DICTSIZE - 3) fo word from the corpus and 3 special token `\u003cs\u003e` (begin of sequence), `\u003ce\u003e` (end of sequence)  and `\u003cunk\u003e` (unknown words that are not in the vocabulary).\n",
        "\n",
        "`preprocess.py` is used for pre-processing:\n"
      ]
    },
    {
      "cell_type": "code",
      "metadata": {
        "editable": true
      },
      "source": [
        "python preprocess.py -i INPUT [-d DICTSIZE] [-m]\n"
      ],
      "outputs": [
        {
          "name": "stdout",
          "output_type": "stream",
          "text": [
            "\n"
          ]
        }
      ],
      "execution_count": 1
    },
    {
      "cell_type": "markdown",
      "metadata": {},
      "source": [
        "- `-i INPUT`: path to the original dataset.\n",
        "- `-d DICTSIZE`: number of words in the dictionary. If unspecified, the dictionary will contain all the words appeared in the input dataset.\n",
        "- `-m --mergeDict`: merge the source dictionary with target dictionary, making the two dictionaries have the same content.\n",
        "\n",
        "The specific command to run the script is as follows:\n"
      ]
    },
    {
      "cell_type": "code",
      "metadata": {
        "editable": true
      },
      "source": [
        "python preprocess.py -i data/wmt14 -d 30000\n"
      ],
      "outputs": [
        {
          "name": "stdout",
          "output_type": "stream",
          "text": [
            "\n"
          ]
        }
      ],
      "execution_count": 1
    },
    {
      "cell_type": "markdown",
      "metadata": {},
      "source": [
        "You will see the following messages after a few minutes:\n",
        "```text\n",
        "concat parallel corpora for dataset\n",
        "build source dictionary for train data\n",
        "build target dictionary for train data\n",
        "dictionary size is 30000\n",
        "```\n",
        "The pre-processed data is located at `data/pre-wmt14`:\n",
        "```text\n",
        "pre-wmt14\n",
        "├── train\n",
        "│   └── train\n",
        "├── test\n",
        "│   └── test\n",
        "├── gen\n",
        "│   └── gen\n",
        "├── train.list\n",
        "├── test.list\n",
        "├── gen.list\n",
        "├── src.dict\n",
        "└── trg.dict\n",
        "```\n",
        "- `train`, `test` and `gen`: contains French-English parallel corpus for training, testing and generation. Each row from each file is separated into two columns with a \"\\t\", where the first column is the sequence in French and the second one is in English.\n",
        "- `train.list`, `test.list` and `gen.list`: record respectively the path to `train`, `test` and `gen` folders.\n",
        "- `src.dict` and `trg.dict`: source (French) and target (English) dictionary. Each dictionary contains 30000 words (29997 most frequent words and 3 special tokens).\n",
        "\n",
        "### Providing Data to PaddlePaddle\n",
        "\n",
        "We use `dataprovider.py` to provide data to PaddlePaddle as follows:\n",
        "\n",
        "1. Import PyDataProvider2 package from PaddlePaddle and define three special tokens:\n",
        "\n"
      ]
    },
    {
      "cell_type": "code",
      "metadata": {
        "editable": true
      },
      "source": [
        "   from paddle.trainer.PyDataProvider2 import *\n",
        "   UNK_IDX = 2    #out of vocabulary word\n",
        "   START = \"\u003cs\u003e\"  #begin of sequence\n",
        "   END = \"\u003ce\u003e\"    #end of sequence\n"
      ],
      "outputs": [
        {
          "name": "stdout",
          "output_type": "stream",
          "text": [
            "\n"
          ]
        }
      ],
      "execution_count": 1
    },
    {
      "cell_type": "markdown",
      "metadata": {},
      "source": [
        "2. Use initialization function `hook` to define the input data types (`input_types`) for training and generation:\n",
        "   - Training: there are three input sequences, where \"source language sequence\" and \"target language sequence\" are input and the \"target language next word sequence\" is the label.\n",
        "   - Generation: there are two input sequences, where the \"source language sequence\" is the input and “source language sequence id” are the ids for the input data (optional).\n",
        "\n",
        "  `src_dict_path` in the `hook` function is the path to the source language dictionary, while `trg_dict_path` the path to target language dictionary. `is_generating` is passed from model config file. For more details on the usage of the `hook` function please refer to [Model Config](#Model Config).\n",
        "\n"
      ]
    },
    {
      "cell_type": "code",
      "metadata": {
        "editable": true
      },
      "source": [
        "   def hook(settings, src_dict_path, trg_dict_path, is_generating, file_list,\n",
        "            **kwargs):\n",
        "       # job_mode = 1: training 0: generation\n",
        "       settings.job_mode = not is_generating\n",
        "\n",
        "       def fun(dict_path): # load dictionary according to the path\n",
        "           out_dict = dict()\n",
        "           with open(dict_path, \"r\") as fin:\n",
        "               out_dict = {\n",
        "                   line.strip(): line_count\n",
        "                   for line_count, line in enumerate(fin)\n",
        "               }\n",
        "           return out_dict\n",
        "\n",
        "       settings.src_dict = fun(src_dict_path)\n",
        "       settings.trg_dict = fun(trg_dict_path)\n",
        "\n",
        "       if settings.job_mode:                                  #training\n",
        "           settings.input_types = {\n",
        "               'source_language_word':                        #source language sequence\n",
        "               integer_value_sequence(len(settings.src_dict)),\n",
        "               'target_language_word':                        #target language sequence\n",
        "               integer_value_sequence(len(settings.trg_dict)),\n",
        "               'target_language_next_word':                   #target language next word sequence\n",
        "               integer_value_sequence(len(settings.trg_dict))\n",
        "           }\n",
        "       else:                                                  #generation\n",
        "           settings.input_types = {\n",
        "               'source_language_word':                        #source language sequence\n",
        "               integer_value_sequence(len(settings.src_dict)),\n",
        "               'sent_id':                                     #source language sequence id\n",
        "               integer_value_sequence(len(open(file_list[0], \"r\").readlines()))\n",
        "           }\n"
      ],
      "outputs": [
        {
          "name": "stdout",
          "output_type": "stream",
          "text": [
            "\n"
          ]
        }
      ],
      "execution_count": 1
    },
    {
      "cell_type": "markdown",
      "metadata": {},
      "source": [
        "3. Use `process` function to open the file `file_name`, read each row of the file, convert the data to be compatible with `input_types`, and then use `yield` to return to PaddlePaddle process. More specifically\n",
        "\n",
        "   - add `\u003cs\u003e` to the beginning of each source language sequence and add `\u003ce\u003e` to the end, producing \"source_language_word\".\n",
        "   - add `\u003cs\u003e` to the beginning of each target language senquence, producing \"target_language_word\".\n",
        "   - add `\u003ce\u003e` to the end of each target language senquence, producing \"target_language_next_word\".\n",
        "\n"
      ]
    },
    {
      "cell_type": "code",
      "metadata": {
        "editable": true
      },
      "source": [
        "   def _get_ids(s, dictionary): # get the location of each word from the source language sequence in the dictionary\n",
        "       words = s.strip().split()\n",
        "       return [dictionary[START]] + \\\n",
        "              [dictionary.get(w, UNK_IDX) for w in words] + \\\n",
        "              [dictionary[END]]\n",
        "\n",
        "   @provider(init_hook=hook, pool_size=50000)\n",
        "   def process(settings, file_name):\n",
        "       with open(file_name, 'r') as f:\n",
        "           for line_count, line in enumerate(f):\n",
        "               line_split = line.strip().split('\\t')\n",
        "               if settings.job_mode and len(line_split) != 2:\n",
        "                   continue\n",
        "               src_seq = line_split[0]\n",
        "               src_ids = _get_ids(src_seq, settings.src_dict)\n",
        "\n",
        "               if settings.job_mode:\n",
        "                   trg_seq = line_split[1]\n",
        "                   trg_words = trg_seq.split()\n",
        "                   trg_ids = [settings.trg_dict.get(w, UNK_IDX) for w in trg_words]\n",
        "\n",
        "                   # sequence with length longer than 80 with be removed during training to avoid an overly deep RNN.\n",
        "                   if len(src_ids) \u003e 80 or len(trg_ids) \u003e 80:\n",
        "                       continue\n",
        "                   trg_ids_next = trg_ids + [settings.trg_dict[END]]\n",
        "                   trg_ids = [settings.trg_dict[START]] + trg_ids\n",
        "                   yield {\n",
        "                       'source_language_word': src_ids,\n",
        "                       'target_language_word': trg_ids,\n",
        "                       'target_language_next_word': trg_ids_next\n",
        "                   }\n",
        "               else:\n",
        "                   yield {'source_language_word': src_ids, 'sent_id': [line_count]}\n"
      ],
      "outputs": [
        {
          "name": "stdout",
          "output_type": "stream",
          "text": [
            "\n"
          ]
        }
      ],
      "execution_count": 1
    },
    {
      "cell_type": "markdown",
      "metadata": {},
      "source": [
        "Note: The size of the training data is 3.55G. For machines with limited memories, it is recommended to use `pool_size` to set the number of data samples stored in memory.\n",
        "\n",
        "## Model Config\n",
        "\n",
        "### Data Definition\n",
        "\n",
        "1. Specify the path to data and source/target dictionaries. `is_generating` accepts argument passed from command lines and is used to denote whether the current configuration is for training (default) or generation. See [Usage and Resutls](#Usage and Results).\n",
        "\n"
      ]
    },
    {
      "cell_type": "code",
      "metadata": {
        "editable": true
      },
      "source": [
        "   import os\n",
        "   from paddle.trainer_config_helpers import *\n",
        "\n",
        "   data_dir = \"./data/pre-wmt14\" # data path\n",
        "   src_lang_dict = os.path.join(data_dir, 'src.dict') # path to the source language dictionary\n",
        "   trg_lang_dict = os.path.join(data_dir, 'trg.dict') # path to the target language dictionary\n",
        "   is_generating = get_config_arg(\"is_generating\", bool, False) # config mode\n"
      ],
      "outputs": [
        {
          "name": "stdout",
          "output_type": "stream",
          "text": [
            "\n"
          ]
        }
      ],
      "execution_count": 1
    },
    {
      "cell_type": "markdown",
      "metadata": {},
      "source": [
        "2. Use `define_py_data_sources2` to get data from `dataprovider.py`, and use `args` variable to input the source/target language dicitonary path and config mode.\n",
        "\n"
      ]
    },
    {
      "cell_type": "code",
      "metadata": {
        "editable": true
      },
      "source": [
        "   if not is_generating:\n",
        "       train_list = os.path.join(data_dir, 'train.list')\n",
        "       test_list = os.path.join(data_dir, 'test.list')\n",
        "   else:\n",
        "       train_list = None\n",
        "       test_list = os.path.join(data_dir, 'gen.list')\n",
        "\n",
        "   define_py_data_sources2(\n",
        "       train_list,\n",
        "       test_list,\n",
        "       module=\"dataprovider\",\n",
        "       obj=\"process\",\n",
        "       args={\n",
        "           \"src_dict_path\": src_lang_dict, # source language dictionary path\n",
        "           \"trg_dict_path\": trg_lang_dict, # target language dictionary path\n",
        "           \"is_generating\": is_generating  # config mode\n",
        "       })\n"
      ],
      "outputs": [
        {
          "name": "stdout",
          "output_type": "stream",
          "text": [
            "\n"
          ]
        }
      ],
      "execution_count": 1
    },
    {
      "cell_type": "markdown",
      "metadata": {},
      "source": [
        "\n",
        "### Algorithm Configuration\n",
        "\n"
      ]
    },
    {
      "cell_type": "code",
      "metadata": {
        "editable": true
      },
      "source": [
        "settings(\n",
        "    learning_method = AdamOptimizer(),\n",
        "    batch_size = 50,\n",
        "    learning_rate = 5e-4)\n"
      ],
      "outputs": [
        {
          "name": "stdout",
          "output_type": "stream",
          "text": [
            "\n"
          ]
        }
      ],
      "execution_count": 1
    },
    {
      "cell_type": "markdown",
      "metadata": {},
      "source": [
        "This tutorial will use the default SGD and Adam learning algorithm, with a learning rate of 5e-4. Note that the `batch_size = 50` denotes generating 50 sequence each time.\n",
        "\n",
        "### Model Structure\n",
        "1. Define some global variables\n",
        "\n"
      ]
    },
    {
      "cell_type": "code",
      "metadata": {
        "editable": true
      },
      "source": [
        "   source_dict_dim = len(open(src_lang_dict, \"r\").readlines()) # size of the source language dictionary\n",
        "   target_dict_dim = len(open(trg_lang_dict, \"r\").readlines()) # size of target language dictionary\n",
        "   word_vector_dim = 512 # dimensionality of word vector\n",
        "   encoder_size = 512      # dimensionality of the hidden state of encoder GRU\n",
        "   decoder_size = 512    # dimentionality of the hidden state of decoder GRU\n",
        "\n",
        "   if is_generating:\n",
        "       beam_size=3    # beam size for the beam search algorithm\n",
        "       max_length=250 # maximum length for the generated sentence\n",
        "       gen_trans_file = get_config_arg(\"gen_trans_file\", str, None) # generate file\n"
      ],
      "outputs": [
        {
          "name": "stdout",
          "output_type": "stream",
          "text": [
            "\n"
          ]
        }
      ],
      "execution_count": 1
    },
    {
      "cell_type": "markdown",
      "metadata": {},
      "source": [
        "\n",
        "2. Implement Encoder as follows:\n",
        "\n",
        "   2.1 Input one-hot vector representations $\\mathbf{w}$ converted with `dataprovider.py` from the source language sentence\n",
        "\n"
      ]
    },
    {
      "cell_type": "code",
      "metadata": {
        "editable": true
      },
      "source": [
        "   src_word_id = data_layer(name='source_language_word', size=source_dict_dim)\n"
      ],
      "outputs": [
        {
          "name": "stdout",
          "output_type": "stream",
          "text": [
            "\n"
          ]
        }
      ],
      "execution_count": 1
    },
    {
      "cell_type": "markdown",
      "metadata": {},
      "source": [
        "   2.2 Map the one-hot vector into a word vector $\\mathbf{s}$ in a low-dimensional semantic space\n",
        "\n"
      ]
    },
    {
      "cell_type": "code",
      "metadata": {
        "editable": true
      },
      "source": [
        "   src_embedding = embedding_layer(\n",
        "       input=src_word_id,\n",
        "       size=word_vector_dim,\n",
        "       param_attr=ParamAttr(name='_source_language_embedding'))\n"
      ],
      "outputs": [
        {
          "name": "stdout",
          "output_type": "stream",
          "text": [
            "\n"
          ]
        }
      ],
      "execution_count": 1
    },
    {
      "cell_type": "markdown",
      "metadata": {},
      "source": [
        "   2.3 Use bi-direcitonal GRU to encode the source language sequence, and concatenate the encoding outputs from the two GRUs to get $\\mathbf{h}$\n",
        "\n"
      ]
    },
    {
      "cell_type": "code",
      "metadata": {
        "editable": true
      },
      "source": [
        "   src_forward = simple_gru(input=src_embedding, size=encoder_size)\n",
        "   src_backward = simple_gru(\n",
        "       input=src_embedding, size=encoder_size, reverse=True)\n",
        "   encoded_vector = concat_layer(input=[src_forward, src_backward])\n"
      ],
      "outputs": [
        {
          "name": "stdout",
          "output_type": "stream",
          "text": [
            "\n"
          ]
        }
      ],
      "execution_count": 1
    },
    {
      "cell_type": "markdown",
      "metadata": {},
      "source": [
        "\n",
        "3. Implement Attention-based Decoder as follows:\n",
        "\n",
        "   3.1 Get a projection of the encoding (c.f. 2.3) of the source language sequence by passing it into a feed forward neural network\n",
        "\n"
      ]
    },
    {
      "cell_type": "code",
      "metadata": {
        "editable": true
      },
      "source": [
        "   with mixed_layer(size=decoder_size) as encoded_proj:\n",
        "       encoded_proj += full_matrix_projection(input=encoded_vector)\n"
      ],
      "outputs": [
        {
          "name": "stdout",
          "output_type": "stream",
          "text": [
            "\n"
          ]
        }
      ],
      "execution_count": 1
    },
    {
      "cell_type": "markdown",
      "metadata": {},
      "source": [
        "   3.2 Use a non-linear transformation of the last hidden state of the backward GRU on the source language sentence as the initial state of the decoder RNN $c_0=h_T$\n",
        "\n"
      ]
    },
    {
      "cell_type": "code",
      "metadata": {
        "editable": true
      },
      "source": [
        "   backward_first = first_seq(input=src_backward)\n",
        "   with mixed_layer(\n",
        "           size=decoder_size,\n",
        "           act=TanhActivation(), ) as decoder_boot:\n",
        "       decoder_boot += full_matrix_projection(input=backward_first)\n"
      ],
      "outputs": [
        {
          "name": "stdout",
          "output_type": "stream",
          "text": [
            "\n"
          ]
        }
      ],
      "execution_count": 1
    },
    {
      "cell_type": "markdown",
      "metadata": {},
      "source": [
        "   3.3 Define the computation in each time step for the decoder RNN, i.e., according to the current context vector $c_i$, hidden state for the decoder $z_i$ and the $i$-th word $u_i$ in the target language to predict the probability $p_{i+1}$ for the $i+1$-th word.\n",
        "\n",
        "      - decoder_mem records the hidden state $z_i$ from the previous time step, with an initial state as decoder_boot.\n",
        "      - context is computed via `simple_attention` as $c_i=\\sum {j=1}^{T}a_{ij}h_j$, where enc_vec is the projection of $h_j$ and enc_proj is the projection of $h_j$ (c.f. 3.1). $a_{ij}$ is calculated within `simple_attention`.\n",
        "      - decoder_inputs fuse $c_i$ with the representation of the current_word (i.e., $u_i$).\n",
        "      - gru_step uses `gru_step_layer` function to compute $z_{i+1}=\\phi _{\\theta '}\\left ( c_i,u_i,z_i \\right )$.\n",
        "      - Softmax normalization is used in the end to computed the probability of words, i.e., $p\\left ( u_i|u_{\u0026lt;i},\\mathbf{x} \\right )=softmax(W_sz_i+b_z)$. The output is returned.\n",
        "\n"
      ]
    },
    {
      "cell_type": "code",
      "metadata": {
        "editable": true
      },
      "source": [
        "   def gru_decoder_with_attention(enc_vec, enc_proj, current_word):\n",
        "       decoder_mem = memory(\n",
        "           name='gru_decoder', size=decoder_size, boot_layer=decoder_boot)\n",
        "\n",
        "       context = simple_attention(\n",
        "           encoded_sequence=enc_vec,\n",
        "           encoded_proj=enc_proj,\n",
        "           decoder_state=decoder_mem, )\n",
        "\n",
        "       with mixed_layer(size=decoder_size * 3) as decoder_inputs:\n",
        "           decoder_inputs += full_matrix_projection(input=context)\n",
        "           decoder_inputs += full_matrix_projection(input=current_word)\n",
        "\n",
        "       gru_step = gru_step_layer(\n",
        "           name='gru_decoder',\n",
        "           input=decoder_inputs,\n",
        "           output_mem=decoder_mem,\n",
        "           size=decoder_size)\n",
        "\n",
        "       with mixed_layer(\n",
        "               size=target_dict_dim, bias_attr=True,\n",
        "               act=SoftmaxActivation()) as out:\n",
        "           out += full_matrix_projection(input=gru_step)\n",
        "       return out\n"
      ],
      "outputs": [
        {
          "name": "stdout",
          "output_type": "stream",
          "text": [
            "\n"
          ]
        }
      ],
      "execution_count": 1
    },
    {
      "cell_type": "markdown",
      "metadata": {},
      "source": [
        "4. Decoder differences between the training and generation\n",
        "\n",
        "   4.1 Define the name for the decoder and the first two input for `gru_decoder_with_attention`. Note that `StaticInput` is used for the two inputs. Please refer to [StaticInput Document](https://github.com/PaddlePaddle/Paddle/blob/develop/doc/howto/deep_model/rnn/recurrent_group_cn.md#输入) for more details.\n",
        "\n"
      ]
    },
    {
      "cell_type": "code",
      "metadata": {
        "editable": true
      },
      "source": [
        "   decoder_group_name = \"decoder_group\"\n",
        "   group_input1 = StaticInput(input=encoded_vector, is_seq=True)\n",
        "   group_input2 =  StaticInput(input=encoded_proj, is_seq=True)\n",
        "   group_inputs = [group_input1, group_input2]\n"
      ],
      "outputs": [
        {
          "name": "stdout",
          "output_type": "stream",
          "text": [
            "\n"
          ]
        }
      ],
      "execution_count": 1
    },
    {
      "cell_type": "markdown",
      "metadata": {},
      "source": [
        "   4.2 In training mode:\n",
        "\n",
        "      - word embedding from the target langauge trg_embedding is passed to `gru_decoder_with_attention` as current_word.\n",
        "      - `recurrent_group` calls `gru_decoder_with_attention` in a recurrent way\n",
        "      - the sequence of next words from the target language is used as label (lbl)\n",
        "      - multi-class cross-entropy (`classification_cost`) is used to calculate the cost\n",
        "\n"
      ]
    },
    {
      "cell_type": "code",
      "metadata": {
        "editable": true
      },
      "source": [
        "   if not is_generating:\n",
        "       trg_embedding = embedding_layer(\n",
        "           input=data_layer(\n",
        "               name='target_language_word', size=target_dict_dim),\n",
        "           size=word_vector_dim,\n",
        "           param_attr=ParamAttr(name='_target_language_embedding'))\n",
        "       group_inputs.append(trg_embedding)\n",
        "\n",
        "       decoder = recurrent_group(\n",
        "           name=decoder_group_name,\n",
        "           step=gru_decoder_with_attention,\n",
        "           input=group_inputs)\n",
        "\n",
        "       lbl = data_layer(name='target_language_next_word', size=target_dict_dim)\n",
        "       cost = classification_cost(input=decoder, label=lbl)\n",
        "       outputs(cost)\n"
      ],
      "outputs": [
        {
          "name": "stdout",
          "output_type": "stream",
          "text": [
            "\n"
          ]
        }
      ],
      "execution_count": 1
    },
    {
      "cell_type": "markdown",
      "metadata": {},
      "source": [
        "   4.3 In generation mode:\n",
        "\n",
        "      - during generation, as the decoder RNN will take the word vector generated from the previous time step as input, `GeneratedInput` is used to implement this automatically. Please refer to [GeneratedInput Document](https://github.com/PaddlePaddle/Paddle/blob/develop/doc/howto/deep_model/rnn/recurrent_group_cn.md#输入) for details.\n",
        "      - `beam_search` will call `gru_decoder_with_attention` to generate id\n",
        "      - `seqtext_printer_evaluator` outputs the generated sentence to `gen_trans_file` according to `trg_lang_dict`\n",
        "\n"
      ]
    },
    {
      "cell_type": "code",
      "metadata": {
        "editable": true
      },
      "source": [
        "   else:\n",
        "       trg_embedding = GeneratedInput(\n",
        "           size=target_dict_dim,\n",
        "           embedding_name='_target_language_embedding',\n",
        "           embedding_size=word_vector_dim)\n",
        "       group_inputs.append(trg_embedding)\n",
        "\n",
        "       beam_gen = beam_search(\n",
        "           name=decoder_group_name,\n",
        "           step=gru_decoder_with_attention,\n",
        "           input=group_inputs,\n",
        "           bos_id=0,\n",
        "           eos_id=1,\n",
        "           beam_size=beam_size,\n",
        "           max_length=max_length)\n",
        "\n",
        "       seqtext_printer_evaluator(\n",
        "           input=beam_gen,\n",
        "           id_input=data_layer(\n",
        "               name=\"sent_id\", size=1),\n",
        "           dict_file=trg_lang_dict,\n",
        "           result_file=gen_trans_file)\n",
        "       outputs(beam_gen)\n"
      ],
      "outputs": [
        {
          "name": "stdout",
          "output_type": "stream",
          "text": [
            "\n"
          ]
        }
      ],
      "execution_count": 1
    },
    {
      "cell_type": "markdown",
      "metadata": {},
      "source": [
        "Note: Our configuration is based on Bahdanau et al. \\[[4](#Reference)\\] but with a few simplifications. Please refer to [issue #1133](https://github.com/PaddlePaddle/Paddle/issues/1133) for more details.\n",
        "\n",
        "\n",
        "## Model Training\n",
        "\n",
        "Training can be started with the following command:\n",
        "\n",
        "```bash\n",
        "./train.sh\n",
        "```\n",
        "where `train.sh` contains\n",
        "\n",
        "```bash\n",
        "paddle train \\\n",
        "--config='seqToseq_net.py' \\\n",
        "--save_dir='model' \\\n",
        "--use_gpu=false \\\n",
        "--num_passes=16 \\\n",
        "--show_parameter_stats_period=100 \\\n",
        "--trainer_count=4 \\\n",
        "--log_period=10 \\\n",
        "--dot_period=5 \\\n",
        "2\u003e\u00261 | tee 'train.log'\n",
        "```\n",
        "- config: configuration file for the network\n",
        "- save_dir: path to save the trained model\n",
        "- use_gpu: whether to use GPU for training; CPU is used here\n",
        "- num_passes: number of passes for training. In PaddlePaddle, one pass meansing one pass of complete training pass using all the data in the training set\n",
        "- show_parameter_stats_period: here we show the statistics of parameters every 100 batches\n",
        "- trainer_count: the number of CPU processes or GPU devices\n",
        "- log_period: here we print log every 10 batches\n",
        "- dot_period: we print one \".\" every 5 batches\n",
        "\n",
        "The training loss will the printed every 10 batches, and you will see messages like those below:\n",
        "```text\n",
        "I0719 19:16:45.952062 15563 TrainerInternal.cpp:160]  Batch=10 samples=500 AvgCost=198.475 CurrentCost=198.475 Eval: classification_error_evaluator=0.737155  CurrentEval: classification_error_evaluator=0.737155\n",
        "I0719 19:17:56.707319 15563 TrainerInternal.cpp:160]  Batch=20 samples=1000 AvgCost=157.479 CurrentCost=116.483 Eval: classification_error_evaluator=0.698392  CurrentEval: classification_error_evaluator=0.659065\n",
        ".....\n",
        "```\n",
        "- AvgCost: average cost from batch-0 to the current batch.\n",
        "- CurrentCost: the cost for the current batch\n",
        "- classification\\_error\\_evaluator (Eval): average error rate from evaluator-0 to the current evaluator for each word\n",
        "- classification\\_error\\_evaluator (CurrentEval): error rate for the current evaluator for each word\n",
        "\n",
        "The model training is successful when the classification\\_error\\_evaluator is lower than 0.35.\n",
        "\n",
        "## Model Usage\n",
        "\n",
        "### Download Pre-trained Model\n",
        "\n",
        "As the training of an NMT model is very time consuming, we provide a pre-trained model (pass-00012, ~205M). The model is trained with a cluster of 50 physical nodes (each node has two 6-core CPU). We trained 16 passes (taking about 5 days) with each pass taking about 7 hours. The provided model (pass-00012) has the highest [BLEU Score](#BLEU Score) of 26.92. Run the following command to down load the model:\n",
        "```bash\n",
        "cd pretrained\n",
        "./wmt14_model.sh\n",
        "```\n",
        "\n",
        "### Usage and Results\n",
        "\n",
        "Run the following command to perform translation from French to English:\n",
        "\n",
        "```bash\n",
        "./gen.sh\n",
        "```\n",
        "where `gen.sh` contains:\n",
        "\n",
        "```bash\n",
        "paddle train \\\n",
        "--job=test \\\n",
        "--config='seqToseq_net.py' \\\n",
        "--save_dir='pretrained/wmt14_model' \\\n",
        "--use_gpu=true \\\n",
        "--num_passes=13 \\\n",
        "--test_pass=12 \\\n",
        "--trainer_count=1 \\\n",
        "--config_args=is_generating=1,gen_trans_file=\"gen_result\" \\\n",
        "2\u003e\u00261 | tee 'translation/gen.log'\n",
        "```\n",
        "Parameters different training are listed as follows:\n",
        "- job: set the mode as testing.\n",
        "- save_dir: path to the pre-trained model.\n",
        "- num_passes and test_pass: load the model parameters from pass $i\\epsilon \\left [ test\\\\_pass,num\\\\_passes-1 \\right ]$. Here we only load `data/wmt14_model/pass-00012`.\n",
        "- config_args: pass the self-defined command line parameters to model configuration. `is_generating=1` indicates generation mode and `gen_trans_file=\"gen_result\"` represents the file generated.\n",
        "\n",
        "For translation results please refer to [Illustrative Results](#Illustrative Results).\n",
        "\n",
        "### BLEU Evaluation\n",
        "\n",
        "BLEU (Bilingual Evaluation understudy) is a metric widely used for automatic machine translation proposed by IBM Watson Research Center in 2002\\[[5](#References)\\]. The closer the translation produced by a machine is to the translation produced by a human expert, the better the performance of the translation system.\n",
        "To measure the closeness between machine translation and human translation, sentence precision is used. It compares the number of matched n-grams. More matches will lead to higher BLEU scores.\n",
        "\n",
        "[Moses](http://www.statmt.org/moses/) is an open-source machine translation system, we used [multi-bleu.perl](https://github.com/moses-smt/mosesdecoder/blob/master/scripts/generic/multi-bleu.perl) for BLEU evaluation. Run the following command for downloading:\n",
        "```bash\n",
        "./moses_bleu.sh\n",
        "```\n",
        "BLEU evaluation can be performed using the `eval_bleu` script as follows, where FILE is the name of the file to be evaluated, BEAMSIZE is the beam size value, and `data/wmt14/gen/ntst14.trg` is used as the standard translation in default.\n",
        "```bash\n",
        "./eval_bleu.sh FILE BEAMSIZE\n",
        "```\n",
        "Specificaly, the script is run as follows:\n",
        "```bash\n",
        "./eval_bleu.sh gen_result 3\n",
        "```\n",
        "You will see the following message as output:\n",
        "```text\n",
        "BLEU = 26.92\n",
        "```\n",
        "\n",
        "## Summary\n",
        "\n",
        "End-to-end neural machine translation is a recently developed way to perform machine translations. In this chapter, we introduced the typical \"Encoder-Decoder\" framework and \"attention\" mechanism. Since NMT is a typical Sequence-to-Sequence (Seq2Seq) learning problem, tasks such as query rewriting, abstraction generation and single-turn dialogues can all be solved with the model presented in this chapter.\n",
        "\n",
        "## References\n",
        "\n",
        "1. Koehn P. [Statistical machine translation](https://books.google.com.hk/books?id=4v_Cx1wIMLkC\u0026printsec=frontcover\u0026hl=zh-CN\u0026source=gbs_ge_summary_r\u0026cad=0#v=onepage\u0026q\u0026f=false)[M]. Cambridge University Press, 2009.\n",
        "2. Cho K, Van Merriënboer B, Gulcehre C, et al. [Learning phrase representations using RNN encoder-decoder for statistical machine translation](http://www.aclweb.org/anthology/D/D14/D14-1179.pdf)[C]//Proceedings of the 2014 Conference on Empirical Methods in Natural Language Processing (EMNLP), 2014: 1724-1734.\n",
        "3. Chung J, Gulcehre C, Cho K H, et al. [Empirical evaluation of gated recurrent neural networks on sequence modeling](https://arxiv.org/abs/1412.3555)[J]. arXiv preprint arXiv:1412.3555, 2014.\n",
        "4.  Bahdanau D, Cho K, Bengio Y. [Neural machine translation by jointly learning to align and translate](https://arxiv.org/abs/1409.0473)[C]//Proceedings of ICLR 2015, 2015.\n",
        "5. Papineni K, Roukos S, Ward T, et al. [BLEU: a method for automatic evaluation of machine translation](http://dl.acm.org/citation.cfm?id=1073135)[C]//Proceedings of the 40th annual meeting on association for computational linguistics. Association for Computational Linguistics, 2002: 311-318.\n",
        "\n",
        "\u003cbr/\u003e\n",
        "\u003ca rel=\"license\" href=\"http://creativecommons.org/licenses/by-nc-sa/4.0/\"\u003e\u003cimg alt=\"知识共享许可协议\" style=\"border-width:0\" src=\"https://i.creativecommons.org/l/by-nc-sa/4.0/88x31.png\" /\u003e\u003c/a\u003e\u003cbr /\u003e\u003cspan xmlns:dct=\"http://purl.org/dc/terms/\" href=\"http://purl.org/dc/dcmitype/Text\" property=\"dct:title\" rel=\"dct:type\"\u003e本教程\u003c/span\u003e 由 \u003ca xmlns:cc=\"http://creativecommons.org/ns#\" href=\"http://book.paddlepaddle.org\" property=\"cc:attributionName\" rel=\"cc:attributionURL\"\u003ePaddlePaddle\u003c/a\u003e 创作，采用 \u003ca rel=\"license\" href=\"http://creativecommons.org/licenses/by-nc-sa/4.0/\"\u003e知识共享 署名-非商业性使用-相同方式共享 4.0 国际 许可协议\u003c/a\u003e进行许可。\n"
      ]
    }
  ],
  "metadata": {
    "kernelspec": {
      "display_name": "Python 3",
      "language": "python",
      "name": "python3"
    },
    "language_info": {
      "codemirror_mode": {
        "name": "ipython",
        "version": 3
      },
      "file_extension": ".py",
      "mimetype": "text/x-python",
      "name": "python",
      "nbconvert_exporter": "python",
      "pygments_lexer": "ipython3",
      "version": "3.6.0"
    }
  },
  "nbformat": 4,
  "nbformat_minor": 0
}
